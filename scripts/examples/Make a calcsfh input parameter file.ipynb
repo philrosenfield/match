{
 "cells": [
  {
   "cell_type": "markdown",
   "metadata": {},
   "source": [
    "# Make CALCSFH input parameter file\n",
    "This notebook will go through how to use <code>calcsfh_input_parameter</code> to programatically write calcsfh input parameter files."
   ]
  },
  {
   "cell_type": "code",
   "execution_count": 1,
   "metadata": {},
   "outputs": [],
   "source": [
    "from match.scripts.fileio import calcsfh_input_parameter"
   ]
  },
  {
   "cell_type": "markdown",
   "metadata": {},
   "source": [
    "The default dictionary for calcsfh is accessible via fileio.calcsfh_dict() and is stored in <code>templates/calcsfh_input_parameter.json</code>\n",
    "\n",
    "To use all the default values won't actually work when running <code>calcsfh</code>: if you do not supply v, i keywords, you will raise an assertion error:"
   ]
  },
  {
   "cell_type": "code",
   "execution_count": 2,
   "metadata": {},
   "outputs": [
    {
     "ename": "AssertionError",
     "evalue": "Error filter1 filter not in ['B', 'C', 'D51', 'DDO51_vac', 'F170W', 'F218W', 'F255W', 'F300W', 'F336W', 'F380W', 'F439W', 'F450W', 'F555W', 'F569W', 'F606W', 'F622W', 'F675W', 'F702W', 'F791W', 'F814W', 'F850LP', 'GALEXB', 'GALEXFUV', 'GALEXNUV', 'GALEXU', 'GALEXV', 'H', 'HRC220W', 'HRC250W', 'HRC330W', 'HRC344N', 'HRC435W', 'HRC475W', 'HRC502N', 'HRC550M', 'HRC555W', 'HRC606W', 'HRC625W', 'HRC658N', 'HRC660N', 'HRC775W', 'HRC814W', 'HRC850LP', 'HRC892N', 'I', 'IR098M', 'IR105W', 'IR110W', 'IR125W', 'IR126N', 'IR127M', 'IR128N', 'IR130N', 'IR132N', 'IR139M', 'IR140W', 'IR153M', 'IR160W', 'IR164N', 'IR167N', 'IRAC3.6', 'IRAC4.5', 'IRAC5.8', 'IRAC8.0', 'J', 'JWST070W', 'JWST090W', 'JWST115W', 'JWST140M', 'JWST150W', 'JWST150W2', 'JWST162M', 'JWST164N', 'JWST182M', 'JWST187N', 'JWST200W', 'JWST210M', 'JWST212N', 'JWST250M', 'JWST277W', 'JWST300M', 'JWST322W2', 'JWST323N', 'JWST335M', 'JWST356W', 'JWST360M', 'JWST405N', 'JWST410M', 'JWST430M', 'JWST444W', 'JWST460M', 'JWST466N', 'JWST470N', 'JWST480M', 'K', 'Kp', 'Ks', 'M', 'MIPS160', 'MIPS24', 'MIPS70', 'PS_open', 'R', 'Stromb', 'Stromu', 'Stromv', 'Stromy', 'T1', 'T2', 'Tycho_B', 'Tycho_V', 'U', 'UVIS200LP', 'UVIS218W', 'UVIS225W', 'UVIS275W', 'UVIS280N', 'UVIS300X', 'UVIS336W', 'UVIS343N', 'UVIS350LP', 'UVIS373N', 'UVIS390M', 'UVIS390W', 'UVIS395N', 'UVIS410M', 'UVIS438W', 'UVIS467M', 'UVIS469N', 'UVIS475W', 'UVIS475X', 'UVIS487N', 'UVIS502N', 'UVIS547M', 'UVIS555W', 'UVIS600LP', 'UVIS606W', 'UVIS621M', 'UVIS625W', 'UVIS631N', 'UVIS645N', 'UVIS656N', 'UVIS657N', 'UVIS658N', 'UVIS665N', 'UVIS673N', 'UVIS680N', 'UVIS689M', 'UVIS763M', 'UVIS775W', 'UVIS814W', 'UVIS845M', 'UVIS850LP', 'UVIS953N', 'V', 'WFC435W', 'WFC475W', 'WFC502N', 'WFC550M', 'WFC555W', 'WFC606W', 'WFC625W', 'WFC658N', 'WFC660N', 'WFC775W', 'WFC814W', 'WFC850LP', 'WFC892N', 'f31', 'gp', 'gp1', 'ip', 'ip1', 'rp', 'rp1', 'up', 'washB', 'washI', 'washR', 'washV', 'wp1', 'yp1', 'zp', 'zp1']",
     "output_type": "error",
     "traceback": [
      "\u001b[0;31m---------------------------------------------------------------------------\u001b[0m",
      "\u001b[0;31mAssertionError\u001b[0m                            Traceback (most recent call last)",
      "\u001b[0;32m<ipython-input-2-0fd8282c71c1>\u001b[0m in \u001b[0;36m<module>\u001b[0;34m()\u001b[0m\n\u001b[0;32m----> 1\u001b[0;31m \u001b[0mprint\u001b[0m\u001b[0;34m(\u001b[0m\u001b[0mcalcsfh_input_parameter\u001b[0m\u001b[0;34m(\u001b[0m\u001b[0;34m)\u001b[0m\u001b[0;34m)\u001b[0m\u001b[0;34m\u001b[0m\u001b[0m\n\u001b[0m",
      "\u001b[0;32m~/Work/match/scripts/fileio.py\u001b[0m in \u001b[0;36mcalcsfh_input_parameter\u001b[0;34m(zinc, power_law_imf, max_tbins, **params)\u001b[0m\n\u001b[1;32m    293\u001b[0m         \u001b[0;32massert\u001b[0m\u001b[0;34m(\u001b[0m\u001b[0mfilt\u001b[0m \u001b[0;32min\u001b[0m \u001b[0mpossible_filters\u001b[0m\u001b[0;34m)\u001b[0m\u001b[0;34m,\u001b[0m\u001b[0;31m \u001b[0m\u001b[0;31m\\\u001b[0m\u001b[0;34m\u001b[0m\u001b[0m\n\u001b[1;32m    294\u001b[0m             \u001b[0;34m'Error {0:s} filter not in {1!s}'\u001b[0m\u001b[0;31m \u001b[0m\u001b[0;31m\\\u001b[0m\u001b[0;34m\u001b[0m\u001b[0m\n\u001b[0;32m--> 295\u001b[0;31m             \u001b[0;34m.\u001b[0m\u001b[0mformat\u001b[0m\u001b[0;34m(\u001b[0m\u001b[0mfilt\u001b[0m\u001b[0;34m,\u001b[0m \u001b[0mpossible_filters\u001b[0m\u001b[0;34m)\u001b[0m\u001b[0;34m\u001b[0m\u001b[0m\n\u001b[0m\u001b[1;32m    296\u001b[0m \u001b[0;34m\u001b[0m\u001b[0m\n\u001b[1;32m    297\u001b[0m     \u001b[0;31m# the logZ line changes if using -zinc flag\u001b[0m\u001b[0;34m\u001b[0m\u001b[0;34m\u001b[0m\u001b[0m\n",
      "\u001b[0;31mAssertionError\u001b[0m: Error filter1 filter not in ['B', 'C', 'D51', 'DDO51_vac', 'F170W', 'F218W', 'F255W', 'F300W', 'F336W', 'F380W', 'F439W', 'F450W', 'F555W', 'F569W', 'F606W', 'F622W', 'F675W', 'F702W', 'F791W', 'F814W', 'F850LP', 'GALEXB', 'GALEXFUV', 'GALEXNUV', 'GALEXU', 'GALEXV', 'H', 'HRC220W', 'HRC250W', 'HRC330W', 'HRC344N', 'HRC435W', 'HRC475W', 'HRC502N', 'HRC550M', 'HRC555W', 'HRC606W', 'HRC625W', 'HRC658N', 'HRC660N', 'HRC775W', 'HRC814W', 'HRC850LP', 'HRC892N', 'I', 'IR098M', 'IR105W', 'IR110W', 'IR125W', 'IR126N', 'IR127M', 'IR128N', 'IR130N', 'IR132N', 'IR139M', 'IR140W', 'IR153M', 'IR160W', 'IR164N', 'IR167N', 'IRAC3.6', 'IRAC4.5', 'IRAC5.8', 'IRAC8.0', 'J', 'JWST070W', 'JWST090W', 'JWST115W', 'JWST140M', 'JWST150W', 'JWST150W2', 'JWST162M', 'JWST164N', 'JWST182M', 'JWST187N', 'JWST200W', 'JWST210M', 'JWST212N', 'JWST250M', 'JWST277W', 'JWST300M', 'JWST322W2', 'JWST323N', 'JWST335M', 'JWST356W', 'JWST360M', 'JWST405N', 'JWST410M', 'JWST430M', 'JWST444W', 'JWST460M', 'JWST466N', 'JWST470N', 'JWST480M', 'K', 'Kp', 'Ks', 'M', 'MIPS160', 'MIPS24', 'MIPS70', 'PS_open', 'R', 'Stromb', 'Stromu', 'Stromv', 'Stromy', 'T1', 'T2', 'Tycho_B', 'Tycho_V', 'U', 'UVIS200LP', 'UVIS218W', 'UVIS225W', 'UVIS275W', 'UVIS280N', 'UVIS300X', 'UVIS336W', 'UVIS343N', 'UVIS350LP', 'UVIS373N', 'UVIS390M', 'UVIS390W', 'UVIS395N', 'UVIS410M', 'UVIS438W', 'UVIS467M', 'UVIS469N', 'UVIS475W', 'UVIS475X', 'UVIS487N', 'UVIS502N', 'UVIS547M', 'UVIS555W', 'UVIS600LP', 'UVIS606W', 'UVIS621M', 'UVIS625W', 'UVIS631N', 'UVIS645N', 'UVIS656N', 'UVIS657N', 'UVIS658N', 'UVIS665N', 'UVIS673N', 'UVIS680N', 'UVIS689M', 'UVIS763M', 'UVIS775W', 'UVIS814W', 'UVIS845M', 'UVIS850LP', 'UVIS953N', 'V', 'WFC435W', 'WFC475W', 'WFC502N', 'WFC550M', 'WFC555W', 'WFC606W', 'WFC625W', 'WFC658N', 'WFC660N', 'WFC775W', 'WFC814W', 'WFC850LP', 'WFC892N', 'f31', 'gp', 'gp1', 'ip', 'ip1', 'rp', 'rp1', 'up', 'washB', 'washI', 'washR', 'washV', 'wp1', 'yp1', 'zp', 'zp1']"
     ]
    }
   ],
   "source": [
    "print(calcsfh_input_parameter())"
   ]
  },
  {
   "cell_type": "markdown",
   "metadata": {},
   "source": [
    "Supplying v filter as V and i filter as I you can see the full defaults. Notice the CMD limits are all -99,99."
   ]
  },
  {
   "cell_type": "code",
   "execution_count": 3,
   "metadata": {},
   "outputs": [
    {
     "name": "stdout",
     "output_type": "stream",
     "text": [
      "1.35 10.000 10.000 0.050 0.000 0.000 0.050\n",
      "-2.15 0.10 0.10\n",
      "0.35 0.000001 0.000001\n",
      "1\n",
      "0.10 0.05 5 -99.00 99.00 V,I\n",
      "-99.00 99.00 V\n",
      "-99.00 99.00 I\n",
      "0  0  \n",
      "71\n",
      "   6.600000 6.650000\n",
      "   6.650000 6.700000\n",
      "   6.700000 6.750000\n",
      "   6.750000 6.800000\n",
      "   6.800000 6.850000\n",
      "   6.850000 6.900000\n",
      "   6.900000 6.950000\n",
      "   6.950000 7.000000\n",
      "   7.000000 7.050000\n",
      "   7.050000 7.100000\n",
      "   7.100000 7.150000\n",
      "   7.150000 7.200000\n",
      "   7.200000 7.250000\n",
      "   7.250000 7.300000\n",
      "   7.300000 7.350000\n",
      "   7.350000 7.400000\n",
      "   7.400000 7.450000\n",
      "   7.450000 7.500000\n",
      "   7.500000 7.550000\n",
      "   7.550000 7.600000\n",
      "   7.600000 7.650000\n",
      "   7.650000 7.700000\n",
      "   7.700000 7.750000\n",
      "   7.750000 7.800000\n",
      "   7.800000 7.850000\n",
      "   7.850000 7.900000\n",
      "   7.900000 7.950000\n",
      "   7.950000 8.000000\n",
      "   8.000000 8.050000\n",
      "   8.050000 8.100000\n",
      "   8.100000 8.150000\n",
      "   8.150000 8.200000\n",
      "   8.200000 8.250000\n",
      "   8.250000 8.300000\n",
      "   8.300000 8.350000\n",
      "   8.350000 8.400000\n",
      "   8.400000 8.450000\n",
      "   8.450000 8.500000\n",
      "   8.500000 8.550000\n",
      "   8.550000 8.600000\n",
      "   8.600000 8.650000\n",
      "   8.650000 8.700000\n",
      "   8.700000 8.750000\n",
      "   8.750000 8.800000\n",
      "   8.800000 8.850000\n",
      "   8.850000 8.900000\n",
      "   8.900000 8.950000\n",
      "   8.950000 9.000000\n",
      "   9.000000 9.050000\n",
      "   9.050000 9.100000\n",
      "   9.100000 9.150000\n",
      "   9.150000 9.200000\n",
      "   9.200000 9.250000\n",
      "   9.250000 9.300000\n",
      "   9.300000 9.350000\n",
      "   9.350000 9.400000\n",
      "   9.400000 9.450000\n",
      "   9.450000 9.500000\n",
      "   9.500000 9.550000\n",
      "   9.550000 9.600000\n",
      "   9.600000 9.650000\n",
      "   9.650000 9.700000\n",
      "   9.700000 9.750000\n",
      "   9.750000 9.800000\n",
      "   9.800000 9.850000\n",
      "   9.850000 9.900000\n",
      "   9.900000 9.950000\n",
      "   9.950000 10.000000\n",
      "   10.000000 10.050000\n",
      "   10.050000 10.100000\n",
      "   10.100000 10.150000\n",
      "\n",
      "\n"
     ]
    }
   ],
   "source": [
    "filters = {'v': 'V', 'i': 'I'}\n",
    "print(calcsfh_input_parameter(**filters))"
   ]
  },
  {
   "cell_type": "markdown",
   "metadata": {},
   "source": [
    "If you will be running calcsfh with <code>-zinc</code>, <code>-kroupa</code>, or <code>-chabrier</code>, the input file format changes (line 2 for zinc, line 1 for IMF). Access the options as arguments."
   ]
  },
  {
   "cell_type": "code",
   "execution_count": 4,
   "metadata": {},
   "outputs": [
    {
     "name": "stdout",
     "output_type": "stream",
     "text": [
      "1.35 10.000 10.000 0.050 0.000 0.000 0.050\n",
      "-2.15 0.10 0.10 -2.30 -1.00 -0.10 -1.30\n",
      "0.35 0.000001 0.000001\n",
      "1\n",
      "0.10 0.05 5 -99.00 99.00 V,I\n",
      "-99.00 99.00 V\n",
      "-99.00 99.00 I\n",
      "0  0  \n",
      "71\n",
      "   6.600000 6.650000\n",
      "   6.650000 6.700000\n",
      "   6.700000 6.750000\n",
      "   6.750000 6.800000\n",
      "   6.800000 6.850000\n",
      "   6.850000 6.900000\n",
      "   6.900000 6.950000\n",
      "   6.950000 7.000000\n",
      "   7.000000 7.050000\n",
      "   7.050000 7.100000\n",
      "   7.100000 7.150000\n",
      "   7.150000 7.200000\n",
      "   7.200000 7.250000\n",
      "   7.250000 7.300000\n",
      "   7.300000 7.350000\n",
      "   7.350000 7.400000\n",
      "   7.400000 7.450000\n",
      "   7.450000 7.500000\n",
      "   7.500000 7.550000\n",
      "   7.550000 7.600000\n",
      "   7.600000 7.650000\n",
      "   7.650000 7.700000\n",
      "   7.700000 7.750000\n",
      "   7.750000 7.800000\n",
      "   7.800000 7.850000\n",
      "   7.850000 7.900000\n",
      "   7.900000 7.950000\n",
      "   7.950000 8.000000\n",
      "   8.000000 8.050000\n",
      "   8.050000 8.100000\n",
      "   8.100000 8.150000\n",
      "   8.150000 8.200000\n",
      "   8.200000 8.250000\n",
      "   8.250000 8.300000\n",
      "   8.300000 8.350000\n",
      "   8.350000 8.400000\n",
      "   8.400000 8.450000\n",
      "   8.450000 8.500000\n",
      "   8.500000 8.550000\n",
      "   8.550000 8.600000\n",
      "   8.600000 8.650000\n",
      "   8.650000 8.700000\n",
      "   8.700000 8.750000\n",
      "   8.750000 8.800000\n",
      "   8.800000 8.850000\n",
      "   8.850000 8.900000\n",
      "   8.900000 8.950000\n",
      "   8.950000 9.000000\n",
      "   9.000000 9.050000\n",
      "   9.050000 9.100000\n",
      "   9.100000 9.150000\n",
      "   9.150000 9.200000\n",
      "   9.200000 9.250000\n",
      "   9.250000 9.300000\n",
      "   9.300000 9.350000\n",
      "   9.350000 9.400000\n",
      "   9.400000 9.450000\n",
      "   9.450000 9.500000\n",
      "   9.500000 9.550000\n",
      "   9.550000 9.600000\n",
      "   9.600000 9.650000\n",
      "   9.650000 9.700000\n",
      "   9.700000 9.750000\n",
      "   9.750000 9.800000\n",
      "   9.800000 9.850000\n",
      "   9.850000 9.900000\n",
      "   9.900000 9.950000\n",
      "   9.950000 10.000000\n",
      "   10.000000 10.050000\n",
      "   10.050000 10.100000\n",
      "   10.100000 10.150000\n",
      "\n",
      "\n"
     ]
    }
   ],
   "source": [
    "print(calcsfh_input_parameter(zinc=True, **filters))"
   ]
  },
  {
   "cell_type": "code",
   "execution_count": 5,
   "metadata": {},
   "outputs": [
    {
     "name": "stdout",
     "output_type": "stream",
     "text": [
      " 10.000 10.000 0.050 0.000 0.000 0.050\n",
      "-2.15 0.10 0.10 -2.30 -1.00 -0.10 -1.30\n",
      "0.35 0.000001 0.000001\n",
      "1\n",
      "0.10 0.05 5 -99.00 99.00 V,I\n",
      "-99.00 99.00 V\n",
      "-99.00 99.00 I\n",
      "0  0  \n",
      "71\n",
      "   6.600000 6.650000\n",
      "   6.650000 6.700000\n",
      "   6.700000 6.750000\n",
      "   6.750000 6.800000\n",
      "   6.800000 6.850000\n",
      "   6.850000 6.900000\n",
      "   6.900000 6.950000\n",
      "   6.950000 7.000000\n",
      "   7.000000 7.050000\n",
      "   7.050000 7.100000\n",
      "   7.100000 7.150000\n",
      "   7.150000 7.200000\n",
      "   7.200000 7.250000\n",
      "   7.250000 7.300000\n",
      "   7.300000 7.350000\n",
      "   7.350000 7.400000\n",
      "   7.400000 7.450000\n",
      "   7.450000 7.500000\n",
      "   7.500000 7.550000\n",
      "   7.550000 7.600000\n",
      "   7.600000 7.650000\n",
      "   7.650000 7.700000\n",
      "   7.700000 7.750000\n",
      "   7.750000 7.800000\n",
      "   7.800000 7.850000\n",
      "   7.850000 7.900000\n",
      "   7.900000 7.950000\n",
      "   7.950000 8.000000\n",
      "   8.000000 8.050000\n",
      "   8.050000 8.100000\n",
      "   8.100000 8.150000\n",
      "   8.150000 8.200000\n",
      "   8.200000 8.250000\n",
      "   8.250000 8.300000\n",
      "   8.300000 8.350000\n",
      "   8.350000 8.400000\n",
      "   8.400000 8.450000\n",
      "   8.450000 8.500000\n",
      "   8.500000 8.550000\n",
      "   8.550000 8.600000\n",
      "   8.600000 8.650000\n",
      "   8.650000 8.700000\n",
      "   8.700000 8.750000\n",
      "   8.750000 8.800000\n",
      "   8.800000 8.850000\n",
      "   8.850000 8.900000\n",
      "   8.900000 8.950000\n",
      "   8.950000 9.000000\n",
      "   9.000000 9.050000\n",
      "   9.050000 9.100000\n",
      "   9.100000 9.150000\n",
      "   9.150000 9.200000\n",
      "   9.200000 9.250000\n",
      "   9.250000 9.300000\n",
      "   9.300000 9.350000\n",
      "   9.350000 9.400000\n",
      "   9.400000 9.450000\n",
      "   9.450000 9.500000\n",
      "   9.500000 9.550000\n",
      "   9.550000 9.600000\n",
      "   9.600000 9.650000\n",
      "   9.650000 9.700000\n",
      "   9.700000 9.750000\n",
      "   9.750000 9.800000\n",
      "   9.800000 9.850000\n",
      "   9.850000 9.900000\n",
      "   9.900000 9.950000\n",
      "   9.950000 10.000000\n",
      "   10.000000 10.050000\n",
      "   10.050000 10.100000\n",
      "   10.100000 10.150000\n",
      "\n",
      "\n"
     ]
    }
   ],
   "source": [
    "print(calcsfh_input_parameter(zinc=True, power_law_imf=False, **filters))"
   ]
  },
  {
   "cell_type": "markdown",
   "metadata": {},
   "source": [
    "To adjust the time bins, pass a dictionary as params. \n",
    "* set <code>ntbins</code>, the number of time bins, to calculate the time bin sizes using <code>tmin</code> and <code>tmax</code>.\n",
    "* set <code>tbins</code>, the time bin size, to calculate the number of time bins using <code>tmin</code> and <code>tmax</code>."
   ]
  },
  {
   "cell_type": "code",
   "execution_count": 6,
   "metadata": {},
   "outputs": [
    {
     "name": "stdout",
     "output_type": "stream",
     "text": [
      "1.35 10.000 10.000 0.050 0.000 0.000 0.050\n",
      "-2.15 0.10 0.10\n",
      "0.35 0.000001 0.000001\n",
      "1\n",
      "0.10 0.05 5 -99.00 99.00 V,I\n",
      "-99.00 99.00 V\n",
      "-99.00 99.00 I\n",
      "0  0  \n",
      "4\n",
      "   6.600000 7.475000\n",
      "   7.475000 8.350000\n",
      "   8.350000 9.225000\n",
      "   9.225000 10.100000\n",
      "\n",
      "\n"
     ]
    }
   ],
   "source": [
    "params = {'ntbins': 5, **filters}\n",
    "print(calcsfh_input_parameter(**params))"
   ]
  },
  {
   "cell_type": "code",
   "execution_count": 7,
   "metadata": {},
   "outputs": [
    {
     "name": "stdout",
     "output_type": "stream",
     "text": [
      "1.35 10.000 10.000 0.050 0.000 0.000 0.050\n",
      "-2.15 0.10 0.10\n",
      "0.35 0.000001 0.000001\n",
      "1\n",
      "0.10 0.05 5 -99.00 99.00 V,I\n",
      "-99.00 99.00 V\n",
      "-99.00 99.00 I\n",
      "0  0  \n",
      "20\n",
      "   7.500000 7.600000\n",
      "   7.600000 7.700000\n",
      "   7.700000 7.800000\n",
      "   7.800000 7.900000\n",
      "   7.900000 8.000000\n",
      "   8.000000 8.100000\n",
      "   8.100000 8.200000\n",
      "   8.200000 8.300000\n",
      "   8.300000 8.400000\n",
      "   8.400000 8.500000\n",
      "   8.500000 8.600000\n",
      "   8.600000 8.700000\n",
      "   8.700000 8.800000\n",
      "   8.800000 8.900000\n",
      "   8.900000 9.000000\n",
      "   9.000000 9.100000\n",
      "   9.100000 9.200000\n",
      "   9.200000 9.300000\n",
      "   9.300000 9.400000\n",
      "   9.400000 9.500000\n",
      "\n",
      "\n"
     ]
    }
   ],
   "source": [
    "params = {'tmax': 9.5, 'tmin': 7.5, 'tbin': 0.1, **filters}\n",
    "print(calcsfh_input_parameter(**params))"
   ]
  },
  {
   "cell_type": "markdown",
   "metadata": {},
   "source": [
    "Set the CMD limits using the same nomenclature as found in the MATCH README file. You could also add a background file."
   ]
  },
  {
   "cell_type": "code",
   "execution_count": 8,
   "metadata": {},
   "outputs": [
    {
     "name": "stdout",
     "output_type": "stream",
     "text": [
      "1.35 10.000 10.000 0.050 0.000 0.000 0.050\n",
      "-2.15 0.10 0.10\n",
      "0.35 0.000001 0.000001\n",
      "1\n",
      "0.10 0.05 5 -99.00 99.00 F555W,F814W\n",
      "16.00 24.00 F555W\n",
      "18.00 24.00 F814W\n",
      "0  0  \n",
      "20\n",
      "   7.500000 7.600000\n",
      "   7.600000 7.700000\n",
      "   7.700000 7.800000\n",
      "   7.800000 7.900000\n",
      "   7.900000 8.000000\n",
      "   8.000000 8.100000\n",
      "   8.100000 8.200000\n",
      "   8.200000 8.300000\n",
      "   8.300000 8.400000\n",
      "   8.400000 8.500000\n",
      "   8.500000 8.600000\n",
      "   8.600000 8.700000\n",
      "   8.700000 8.800000\n",
      "   8.800000 8.900000\n",
      "   8.900000 9.000000\n",
      "   9.000000 9.100000\n",
      "   9.100000 9.200000\n",
      "   9.200000 9.300000\n",
      "   9.300000 9.400000\n",
      "   9.400000 9.500000\n",
      "-1 1 -1bg.dat\n",
      "\n"
     ]
    }
   ],
   "source": [
    "params = {'tmax': 9.5, 'tmin': 7.5, 'tbin': 0.1, \n",
    "          'vmin': 16, 'vmax': 24, 'imin': 18, 'imax': 27, 'v-imin': -0.5, 'v-imax': 2.5,\n",
    "          'v': 'F555W', 'i': 'F814W', 'bg_file': 'bg.dat'}\n",
    "print(calcsfh_input_parameter(**params))"
   ]
  },
  {
   "cell_type": "markdown",
   "metadata": {},
   "source": [
    "To use this in your own script, do something like:"
   ]
  },
  {
   "cell_type": "code",
   "execution_count": 9,
   "metadata": {},
   "outputs": [],
   "source": [
    "with open('match.param', 'w') as outputfile:\n",
    "    outputfile.write(calcsfh_input_parameter(**params))"
   ]
  },
  {
   "cell_type": "code",
   "execution_count": 10,
   "metadata": {},
   "outputs": [
    {
     "name": "stdout",
     "output_type": "stream",
     "text": [
      "1.35 10.000 10.000 0.050 0.000 0.000 0.050\r\n",
      "-2.15 0.10 0.10\r\n",
      "0.35 0.000001 0.000001\r\n",
      "1\r\n",
      "0.10 0.05 5 -99.00 99.00 F555W,F814W\r\n",
      "16.00 24.00 F555W\r\n",
      "18.00 24.00 F814W\r\n",
      "0  0  \r\n",
      "20\r\n",
      "   7.500000 7.600000\r\n",
      "   7.600000 7.700000\r\n",
      "   7.700000 7.800000\r\n",
      "   7.800000 7.900000\r\n",
      "   7.900000 8.000000\r\n",
      "   8.000000 8.100000\r\n",
      "   8.100000 8.200000\r\n",
      "   8.200000 8.300000\r\n",
      "   8.300000 8.400000\r\n",
      "   8.400000 8.500000\r\n",
      "   8.500000 8.600000\r\n",
      "   8.600000 8.700000\r\n",
      "   8.700000 8.800000\r\n",
      "   8.800000 8.900000\r\n",
      "   8.900000 9.000000\r\n",
      "   9.000000 9.100000\r\n",
      "   9.100000 9.200000\r\n",
      "   9.200000 9.300000\r\n",
      "   9.300000 9.400000\r\n",
      "   9.400000 9.500000\r\n",
      "-1 1 -1bg.dat\r\n"
     ]
    }
   ],
   "source": [
    "! cat match.param"
   ]
  },
  {
   "cell_type": "markdown",
   "metadata": {},
   "source": [
    "## Using different values of tbin\n",
    "Set <code>tbreak</code> to be the value where a different <code>tbin</code> value should be used. <code>tbin</code> should be an array lenth <code>tbreak + 1</code>"
   ]
  },
  {
   "cell_type": "markdown",
   "metadata": {},
   "source": [
    "* Have 6.6-9.0 at dt=0.1 and 9.0-10.15 at dt=0.05"
   ]
  },
  {
   "cell_type": "code",
   "execution_count": 11,
   "metadata": {},
   "outputs": [
    {
     "name": "stdout",
     "output_type": "stream",
     "text": [
      "1.35 10.000 10.000 0.050 0.000 0.000 0.050\n",
      "-2.15 0.10 0.10\n",
      "0.35 0.000001 0.000001\n",
      "1\n",
      "0.10 0.05 5 -99.00 99.00 F555W,F814W\n",
      "16.00 24.00 F555W\n",
      "18.00 24.00 F814W\n",
      "0  0  \n",
      "49\n",
      "   6.600000 6.700000\n",
      "   6.700000 6.800000\n",
      "   6.800000 6.900000\n",
      "   6.900000 7.000000\n",
      "   7.000000 7.100000\n",
      "   7.100000 7.200000\n",
      "   7.200000 7.300000\n",
      "   7.300000 7.400000\n",
      "   7.400000 7.500000\n",
      "   7.500000 7.600000\n",
      "   7.600000 7.700000\n",
      "   7.700000 7.800000\n",
      "   7.800000 7.900000\n",
      "   7.900000 8.000000\n",
      "   8.000000 8.100000\n",
      "   8.100000 8.200000\n",
      "   8.200000 8.300000\n",
      "   8.300000 8.400000\n",
      "   8.400000 8.500000\n",
      "   8.500000 8.600000\n",
      "   8.600000 8.700000\n",
      "   8.700000 8.800000\n",
      "   8.800000 8.900000\n",
      "   8.900000 9.000000\n",
      "   9.000000 9.050000\n",
      "   9.050000 9.100000\n",
      "   9.100000 9.150000\n",
      "   9.150000 9.200000\n",
      "   9.200000 9.250000\n",
      "   9.250000 9.300000\n",
      "   9.300000 9.350000\n",
      "   9.350000 9.400000\n",
      "   9.400000 9.450000\n",
      "   9.450000 9.500000\n",
      "   9.500000 9.550000\n",
      "   9.550000 9.600000\n",
      "   9.600000 9.650000\n",
      "   9.650000 9.700000\n",
      "   9.700000 9.750000\n",
      "   9.750000 9.800000\n",
      "   9.800000 9.850000\n",
      "   9.850000 9.900000\n",
      "   9.900000 9.950000\n",
      "   9.950000 10.000000\n",
      "   10.000000 10.050000\n",
      "   10.050000 10.100000\n",
      "   10.100000 10.150000\n",
      "   10.150000 10.200000\n",
      "-1 1 -1bg.dat\n",
      "\n"
     ]
    }
   ],
   "source": [
    "params['tmin'] = 6.6\n",
    "params['tmax'] = 10.15\n",
    "params['tbreak'] = [9.0]\n",
    "params['tbin'] = [0.1, 0.05]\n",
    "print(calcsfh_input_parameter(**params))"
   ]
  },
  {
   "cell_type": "markdown",
   "metadata": {},
   "source": [
    "* Have 6.6-7.0 at dt=0.1 and 8.0-9.0 at dt=0.05 and 9.0-10.0 at dt=0.05"
   ]
  },
  {
   "cell_type": "code",
   "execution_count": 12,
   "metadata": {},
   "outputs": [
    {
     "name": "stdout",
     "output_type": "stream",
     "text": [
      "1.35 10.000 10.000 0.050 0.000 0.000 0.050\n",
      "-2.15 0.10 0.10\n",
      "0.35 0.000001 0.000001\n",
      "1\n",
      "0.10 0.05 5 -99.00 99.00 F555W,F814W\n",
      "16.00 24.00 F555W\n",
      "18.00 24.00 F814W\n",
      "0  0  \n",
      "83\n",
      "   7.000000 7.100000\n",
      "   7.100000 7.200000\n",
      "   7.200000 7.300000\n",
      "   7.300000 7.400000\n",
      "   7.400000 7.500000\n",
      "   7.500000 7.600000\n",
      "   7.600000 7.700000\n",
      "   7.700000 7.800000\n",
      "   7.800000 7.900000\n",
      "   7.900000 8.000000\n",
      "   8.000000 8.050000\n",
      "   8.050000 8.100000\n",
      "   8.100000 8.150000\n",
      "   8.150000 8.200000\n",
      "   8.200000 8.250000\n",
      "   8.250000 8.300000\n",
      "   8.300000 8.350000\n",
      "   8.350000 8.400000\n",
      "   8.400000 8.450000\n",
      "   8.450000 8.500000\n",
      "   8.500000 8.550000\n",
      "   8.550000 8.600000\n",
      "   8.600000 8.650000\n",
      "   8.650000 8.700000\n",
      "   8.700000 8.750000\n",
      "   8.750000 8.800000\n",
      "   8.800000 8.850000\n",
      "   8.850000 8.900000\n",
      "   8.900000 8.950000\n",
      "   8.950000 9.000000\n",
      "   9.000000 9.050000\n",
      "   9.050000 9.000000\n",
      "   9.000000 9.020000\n",
      "   9.020000 9.040000\n",
      "   9.040000 9.060000\n",
      "   9.060000 9.080000\n",
      "   9.080000 9.100000\n",
      "   9.100000 9.120000\n",
      "   9.120000 9.140000\n",
      "   9.140000 9.160000\n",
      "   9.160000 9.180000\n",
      "   9.180000 9.200000\n",
      "   9.200000 9.220000\n",
      "   9.220000 9.240000\n",
      "   9.240000 9.260000\n",
      "   9.260000 9.280000\n",
      "   9.280000 9.300000\n",
      "   9.300000 9.320000\n",
      "   9.320000 9.340000\n",
      "   9.340000 9.360000\n",
      "   9.360000 9.380000\n",
      "   9.380000 9.400000\n",
      "   9.400000 9.420000\n",
      "   9.420000 9.440000\n",
      "   9.440000 9.460000\n",
      "   9.460000 9.480000\n",
      "   9.480000 9.500000\n",
      "   9.500000 9.520000\n",
      "   9.520000 9.540000\n",
      "   9.540000 9.560000\n",
      "   9.560000 9.580000\n",
      "   9.580000 9.600000\n",
      "   9.600000 9.620000\n",
      "   9.620000 9.640000\n",
      "   9.640000 9.660000\n",
      "   9.660000 9.680000\n",
      "   9.680000 9.700000\n",
      "   9.700000 9.720000\n",
      "   9.720000 9.740000\n",
      "   9.740000 9.760000\n",
      "   9.760000 9.780000\n",
      "   9.780000 9.800000\n",
      "   9.800000 9.820000\n",
      "   9.820000 9.840000\n",
      "   9.840000 9.860000\n",
      "   9.860000 9.880000\n",
      "   9.880000 9.900000\n",
      "   9.900000 9.920000\n",
      "   9.920000 9.940000\n",
      "   9.940000 9.960000\n",
      "   9.960000 9.980000\n",
      "   9.980000 10.000000\n",
      "-1 1 -1bg.dat\n",
      "\n"
     ]
    }
   ],
   "source": [
    "params['tmin'] = 7.0\n",
    "params['tmax'] = 10.0\n",
    "params['tbreak'] = [8.0, 9.0]\n",
    "params['tbin'] = [0.1, 0.05, 0.02]\n",
    "print(calcsfh_input_parameter(**params))"
   ]
  },
  {
   "cell_type": "code",
   "execution_count": 13,
   "metadata": {},
   "outputs": [],
   "source": [
    "calcsfh_input_parameter?"
   ]
  },
  {
   "cell_type": "code",
   "execution_count": 14,
   "metadata": {},
   "outputs": [],
   "source": [
    "from match.scripts.fileio import calcsfh_dict"
   ]
  },
  {
   "cell_type": "code",
   "execution_count": 15,
   "metadata": {},
   "outputs": [
    {
     "data": {
      "text/plain": [
       "dict_keys(['av0', 'av1', 'bad0', 'bad1', 'bf', 'bg_file', 'bg_sample', 'bg_smooth', 'dav', 'ddmod', 'dlogz', 'dmod0', 'dmod1', 'exclude_gates', 'fake_sm', 'i', 'imax', 'imf', 'imin', 'include_gates', 'logzmax', 'logzmax0', 'logzmax1', 'logzmin', 'logzmin0', 'logzmin1', 'ncmds', 'nexclude_gates', 'ninclude_gates', 'ntbins', 'tbin', 'tbreak', 'tmax', 'tmin', 'use_bg', 'v', 'vimax', 'vimin', 'vistep', 'vmax', 'vmin', 'vstep'])"
      ]
     },
     "execution_count": 15,
     "metadata": {},
     "output_type": "execute_result"
    }
   ],
   "source": [
    "calcsfh_dict().keys()"
   ]
  },
  {
   "cell_type": "code",
   "execution_count": null,
   "metadata": {},
   "outputs": [],
   "source": []
  },
  {
   "cell_type": "code",
   "execution_count": null,
   "metadata": {},
   "outputs": [],
   "source": []
  },
  {
   "cell_type": "code",
   "execution_count": null,
   "metadata": {},
   "outputs": [],
   "source": []
  }
 ],
 "metadata": {
  "kernelspec": {
   "display_name": "Python 3",
   "language": "python",
   "name": "python3"
  },
  "language_info": {
   "codemirror_mode": {
    "name": "ipython",
    "version": 3
   },
   "file_extension": ".py",
   "mimetype": "text/x-python",
   "name": "python",
   "nbconvert_exporter": "python",
   "pygments_lexer": "ipython3",
   "version": "3.6.1"
  }
 },
 "nbformat": 4,
 "nbformat_minor": 1
}
